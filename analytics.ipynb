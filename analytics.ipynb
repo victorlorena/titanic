{
 "cells": [
  {
   "cell_type": "code",
   "execution_count": 8,
   "metadata": {},
   "outputs": [
    {
     "name": "stdout",
     "output_type": "stream",
     "text": [
      "\n",
      "train.columns\n",
      "['PassengerId' 'Survived' 'Pclass' 'Name' 'Sex' 'Age' 'SibSp' 'Parch'\n",
      " 'Ticket' 'Fare' 'Cabin' 'Embarked']\n",
      "\n",
      "train.head\n",
      "   PassengerId  Survived  Pclass  \\\n",
      "0            1         0       3   \n",
      "1            2         1       1   \n",
      "2            3         1       3   \n",
      "3            4         1       1   \n",
      "4            5         0       3   \n",
      "\n",
      "                                                Name     Sex   Age  SibSp  \\\n",
      "0                            Braund, Mr. Owen Harris    male  22.0      1   \n",
      "1  Cumings, Mrs. John Bradley (Florence Briggs Th...  female  38.0      1   \n",
      "2                             Heikkinen, Miss. Laina  female  26.0      0   \n",
      "3       Futrelle, Mrs. Jacques Heath (Lily May Peel)  female  35.0      1   \n",
      "4                           Allen, Mr. William Henry    male  35.0      0   \n",
      "\n",
      "   Parch            Ticket     Fare Cabin Embarked  \n",
      "0      0         A/5 21171   7.2500   NaN        S  \n",
      "1      0          PC 17599  71.2833   C85        C  \n",
      "2      0  STON/O2. 3101282   7.9250   NaN        S  \n",
      "3      0            113803  53.1000  C123        S  \n",
      "4      0            373450   8.0500   NaN        S  \n",
      "\n",
      "train_info\n",
      "<class 'pandas.core.frame.DataFrame'>\n",
      "RangeIndex: 891 entries, 0 to 890\n",
      "Data columns (total 12 columns):\n",
      "PassengerId    891 non-null int64\n",
      "Survived       891 non-null int64\n",
      "Pclass         891 non-null int64\n",
      "Name           891 non-null object\n",
      "Sex            891 non-null object\n",
      "Age            714 non-null float64\n",
      "SibSp          891 non-null int64\n",
      "Parch          891 non-null int64\n",
      "Ticket         891 non-null object\n",
      "Fare           891 non-null float64\n",
      "Cabin          204 non-null object\n",
      "Embarked       889 non-null object\n",
      "dtypes: float64(2), int64(5), object(5)\n",
      "memory usage: 83.7+ KB\n",
      "None\n",
      "\n",
      "test_info\n",
      "<class 'pandas.core.frame.DataFrame'>\n",
      "RangeIndex: 418 entries, 0 to 417\n",
      "Data columns (total 11 columns):\n",
      "PassengerId    418 non-null int64\n",
      "Pclass         418 non-null int64\n",
      "Name           418 non-null object\n",
      "Sex            418 non-null object\n",
      "Age            332 non-null float64\n",
      "SibSp          418 non-null int64\n",
      "Parch          418 non-null int64\n",
      "Ticket         418 non-null object\n",
      "Fare           417 non-null float64\n",
      "Cabin          91 non-null object\n",
      "Embarked       418 non-null object\n",
      "dtypes: float64(2), int64(4), object(5)\n",
      "memory usage: 36.0+ KB\n",
      "None\n",
      "\n",
      "train.describe\n",
      "       PassengerId    Survived      Pclass         Age       SibSp  \\\n",
      "count   891.000000  891.000000  891.000000  714.000000  891.000000   \n",
      "mean    446.000000    0.383838    2.308642   29.699118    0.523008   \n",
      "std     257.353842    0.486592    0.836071   14.526497    1.102743   \n",
      "min       1.000000    0.000000    1.000000    0.420000    0.000000   \n",
      "25%     223.500000    0.000000    2.000000   20.125000    0.000000   \n",
      "50%     446.000000    0.000000    3.000000   28.000000    0.000000   \n",
      "75%     668.500000    1.000000    3.000000   38.000000    1.000000   \n",
      "max     891.000000    1.000000    3.000000   80.000000    8.000000   \n",
      "\n",
      "            Parch        Fare  \n",
      "count  891.000000  891.000000  \n",
      "mean     0.381594   32.204208  \n",
      "std      0.806057   49.693429  \n",
      "min      0.000000    0.000000  \n",
      "25%      0.000000    7.910400  \n",
      "50%      0.000000   14.454200  \n",
      "75%      0.000000   31.000000  \n",
      "max      6.000000  512.329200  \n",
      "\n",
      "\n",
      "Survived: 342 (38.4%)\n",
      "Not Survived: 549 (61.6%)\n",
      "Total: 891\n",
      "\n",
      "train.describe - number\n",
      "       PassengerId    Survived      Pclass         Age       SibSp  \\\n",
      "count   891.000000  891.000000  891.000000  714.000000  891.000000   \n",
      "mean    446.000000    0.383838    2.308642   29.699118    0.523008   \n",
      "std     257.353842    0.486592    0.836071   14.526497    1.102743   \n",
      "min       1.000000    0.000000    1.000000    0.420000    0.000000   \n",
      "25%     223.500000    0.000000    2.000000   20.125000    0.000000   \n",
      "50%     446.000000    0.000000    3.000000   28.000000    0.000000   \n",
      "75%     668.500000    1.000000    3.000000   38.000000    1.000000   \n",
      "max     891.000000    1.000000    3.000000   80.000000    8.000000   \n",
      "\n",
      "            Parch        Fare  \n",
      "count  891.000000  891.000000  \n",
      "mean     0.381594   32.204208  \n",
      "std      0.806057   49.693429  \n",
      "min      0.000000    0.000000  \n",
      "25%      0.000000    7.910400  \n",
      "50%      0.000000   14.454200  \n",
      "75%      0.000000   31.000000  \n",
      "max      6.000000  512.329200  \n",
      "\n",
      "train.describe - categorical\n",
      "                                  Name   Sex  Ticket        Cabin Embarked\n",
      "count                              891   891     891          204      889\n",
      "unique                             891     2     681          147        3\n",
      "top     Adahl, Mr. Mauritz Nils Martin  male  347082  C23 C25 C27        S\n",
      "freq                                 1   577       7            4      644\n"
     ]
    }
   ],
   "source": [
    "import numpy as np\n",
    "import pandas as pd\n",
    "import matplotlib.pyplot as plt\n",
    "import seaborn as sns\n",
    "\n",
    "from sklearn.ensemble.forest import RandomForestClassifier\n",
    "import xgboost as xgb\n",
    "from sklearn.model_selection._search import GridSearchCV\n",
    "from sklearn.model_selection._split import StratifiedKFold\n",
    "from sklearn import svm\n",
    "\n",
    "train = pd.read_csv('train.csv')\n",
    "test = pd.read_csv('test.csv')\n",
    "all_data = [train, test]\n",
    "\n",
    "print('\\ntrain.columns')\n",
    "print(train.columns.values)\n",
    "\n",
    "print('\\ntrain.head')\n",
    "print(train.head())\n",
    "\n",
    "print('\\ntrain_info')\n",
    "print(train.info())\n",
    "\n",
    "print('\\ntest_info')\n",
    "print(test.info())\n",
    "\n",
    "print('\\ntrain.describe')\n",
    "print(train.describe())\n",
    "\n",
    "survived = train[train['Survived'] == 1]\n",
    "not_survived = train[train['Survived'] == 0]\n",
    "\n",
    "print (\"\\n\\nSurvived: %i (%.1f%%)\" % (len(survived), float(len(survived))/len(train)*100.0))\n",
    "print (\"Not Survived: %i (%.1f%%)\" % (len(not_survived), float(len(not_survived))/len(train)*100.0))\n",
    "print (\"Total: %i\" % len(train))\n",
    "\n",
    "print('\\ntrain.describe - number')\n",
    "print(train.describe())\n",
    "\n",
    "print('\\ntrain.describe - categorical')\n",
    "print(train.describe(include=['O']))\n"
   ]
  },
  {
   "cell_type": "code",
   "execution_count": 9,
   "metadata": {},
   "outputs": [
    {
     "name": "stdout",
     "output_type": "stream",
     "text": [
      "----------------------------------------\n",
      "Pclass  Survived\n",
      "1       1           136\n",
      "        0            80\n",
      "2       0            97\n",
      "        1            87\n",
      "3       0           372\n",
      "        1           119\n",
      "Name: Survived, dtype: int64\n"
     ]
    },
    {
     "data": {
      "image/png": "[encoded data removed]",
      "text/plain": [
       "<Figure size 432x288 with 1 Axes>"
      ]
     },
     "metadata": {
      "needs_background": "light"
     },
     "output_type": "display_data"
    },
    {
     "name": "stdout",
     "output_type": "stream",
     "text": [
      "----------------------------------------\n",
      "Sex     Survived\n",
      "female  1           233\n",
      "        0            81\n",
      "male    0           468\n",
      "        1           109\n",
      "Name: Survived, dtype: int64\n"
     ]
    },
    {
     "data": {
      "image/png": "[encoded data removed]",
      "text/plain": [
       "<Figure size 432x288 with 1 Axes>"
      ]
     },
     "metadata": {
      "needs_background": "light"
     },
     "output_type": "display_data"
    },
    {
     "name": "stdout",
     "output_type": "stream",
     "text": [
      "----------------------------------------\n",
      "SibSp  Survived\n",
      "0      0           398\n",
      "       1           210\n",
      "1      1           112\n",
      "       0            97\n",
      "2      0            15\n",
      "       1            13\n",
      "3      0            12\n",
      "       1             4\n",
      "4      0            15\n",
      "       1             3\n",
      "5      0             5\n",
      "8      0             7\n",
      "Name: Survived, dtype: int64\n"
     ]
    },
    {
     "data": {
      "image/png": "[encoded data removed]",
      "text/plain": [
       "<Figure size 432x288 with 1 Axes>"
      ]
     },
     "metadata": {
      "needs_background": "light"
     },
     "output_type": "display_data"
    },
    {
     "name": "stdout",
     "output_type": "stream",
     "text": [
      "----------------------------------------\n",
      "Parch  Survived\n",
      "0      0           445\n",
      "       1           233\n",
      "1      1            65\n",
      "       0            53\n",
      "2      0            40\n",
      "       1            40\n",
      "3      1             3\n",
      "       0             2\n",
      "4      0             4\n",
      "5      0             4\n",
      "       1             1\n",
      "6      0             1\n",
      "Name: Survived, dtype: int64\n"
     ]
    },
    {
     "data": {
      "image/png": "[encoded data removed]",
      "text/plain": [
       "<Figure size 432x288 with 1 Axes>"
      ]
     },
     "metadata": {
      "needs_background": "light"
     },
     "output_type": "display_data"
    },
    {
     "name": "stdout",
     "output_type": "stream",
     "text": [
      "----------------------------------------\n",
      "Embarked  Survived\n",
      "C         1            93\n",
      "          0            75\n",
      "Q         0            47\n",
      "          1            30\n",
      "S         0           427\n",
      "          1           217\n",
      "Name: Survived, dtype: int64\n"
     ]
    },
    {
     "data": {
      "image/png": "[encoded data removed]",
      "text/plain": [
       "<Figure size 432x288 with 1 Axes>"
      ]
     },
     "metadata": {
      "needs_background": "light"
     },
     "output_type": "display_data"
    },
    {
     "name": "stdout",
     "output_type": "stream",
     "text": [
      "----------------------------------------\n",
      "Conclusoes\n",
      "Apesar de mais pessoas pertencerem a Pclass = 3, pessoas da Pclass = 1 tem maior chance de sobrevivencia\n",
      "Apesar de mais pessoas serem homens, mulheres tem maior chance de sobrevivencia\n",
      "Considerando ambos SibSp e Parch, apesar de mais gente ter viajado sem companhia,     a maior chance de sobrevivencia foram para aqueles que viajaram com companhia,     no primeiro caso, SibSP = 1 e SibSP = 2; no segundo caso, Parch = 1 Parch = 2 e Parch = 3\n",
      "Apesar de mais pessoas terem embarcado por S, pessoas que embarcaram por C tem maior chance de sobrevivencia\n",
      "----------------------------------------\n",
      "Sex     female  male\n",
      "Pclass              \n",
      "1           94   122\n",
      "2           76   108\n",
      "3          144   347\n"
     ]
    },
    {
     "name": "stderr",
     "output_type": "stream",
     "text": [
      "c:\\users\\victo\\appdata\\local\\programs\\python\\python37\\lib\\site-packages\\seaborn\\categorical.py:3666: UserWarning: The `factorplot` function has been renamed to `catplot`. The original name will be removed in a future release. Please update your code. Note that the default `kind` in `factorplot` (`'point'`) has changed `'strip'` in `catplot`.\n",
      "  warnings.warn(msg)\n"
     ]
    },
    {
     "data": {
      "image/png": "[encoded data removed]",
      "text/plain": [
       "<Figure size 402.375x360 with 1 Axes>"
      ]
     },
     "metadata": {
      "needs_background": "light"
     },
     "output_type": "display_data"
    },
    {
     "data": {
      "image/png": "[encoded data removed]",
      "text/plain": [
       "<Figure size 1150.5x360 with 3 Axes>"
      ]
     },
     "metadata": {
      "needs_background": "light"
     },
     "output_type": "display_data"
    },
    {
     "name": "stdout",
     "output_type": "stream",
     "text": [
      "----------------------------------------\n",
      "Conclusoes\n",
      "Mulheres das Pclass 1 e 2 tem maior chance de sobrevivencia\n",
      "Homens das Pclass 2 e 3 tem menor chance de sobrevivencia\n",
      "Mulheres da Pclass 3 que embarcaram por S tem menor chance de sobrevivencia\n",
      "Homens que embarcaram por Q tem menor chance de sobrevivencia\n"
     ]
    }
   ],
   "source": [
    "# --- plots    \n",
    "def barplot(x_axis):\n",
    "    print('-'*40)\n",
    "    print(train.groupby(x_axis).Survived.value_counts())\n",
    "    sns.barplot(x=x_axis, y='Survived', ci=None, data=train)\n",
    "    plt.title(x_axis)\n",
    "    plt.show()\n",
    " \n",
    " \n",
    "barplot('Pclass')\n",
    "barplot('Sex')\n",
    "barplot('SibSp')\n",
    "barplot('Parch')\n",
    "barplot('Embarked')\n",
    "\n",
    "print('-'*40)\n",
    "print('Conclusoes')\n",
    "print('Apesar de mais pessoas pertencerem a Pclass = 3, pessoas da Pclass = 1 tem maior chance de sobrevivencia')\n",
    "print('Apesar de mais pessoas serem homens, mulheres tem maior chance de sobrevivencia')\n",
    "print('Considerando ambos SibSp e Parch, apesar de mais gente ter viajado sem companhia, \\\n",
    "    a maior chance de sobrevivencia foram para aqueles que viajaram com companhia, \\\n",
    "    no primeiro caso, SibSP = 1 e SibSP = 2; no segundo caso, Parch = 1 Parch = 2 e Parch = 3')\n",
    "print('Apesar de mais pessoas terem embarcado por S, pessoas que embarcaram por C tem maior chance de sobrevivencia')\n",
    "print('-'*40)\n",
    "\n",
    "tab = pd.crosstab(train['Pclass'], train['Sex'])\n",
    "print (tab)\n",
    "\n",
    "sns.factorplot('Sex', 'Survived', hue='Pclass', data=train)\n",
    "plt.show()\n",
    "      \n",
    "sns.factorplot(x='Pclass', y='Survived', hue='Sex', col='Embarked', data=train)\n",
    "plt.show()\n",
    "\n",
    "print('-'*40)\n",
    "print('Conclusoes')\n",
    "print('Mulheres das Pclass 1 e 2 tem maior chance de sobrevivencia')\n",
    "print('Homens das Pclass 2 e 3 tem menor chance de sobrevivencia')\n",
    "print('Mulheres da Pclass 3 que embarcaram por S tem menor chance de sobrevivencia')\n",
    "print('Homens que embarcaram por Q tem menor chance de sobrevivencia')\n",
    "\n"
   ]
  },
  {
   "cell_type": "code",
   "execution_count": 10,
   "metadata": {},
   "outputs": [
    {
     "name": "stdout",
     "output_type": "stream",
     "text": [
      "----------------------------------------\n",
      "Conclusoes\n",
      "No geral: considerando ambos os sexos, a maior chance de sobrevivencia sao para aqueles com idade <= 7\n",
      "No geral: Mulheres entre 15 e 40 e aquelas com mais de 50 anos tem maior chance de sobrevivencia\n",
      "No geral: A maior chance de sobrevivencia nos homens sao para aqueles com idade <= 10\n"
     ]
    },
    {
     "data": {
      "image/png": "[encoded data removed]",
      "text/plain": [
       "<Figure size 1080x360 with 1 Axes>"
      ]
     },
     "metadata": {
      "needs_background": "light"
     },
     "output_type": "display_data"
    },
    {
     "data": {
      "image/png": "[encoded data removed]",
      "text/plain": [
       "<Figure size 1080x360 with 2 Axes>"
      ]
     },
     "metadata": {
      "needs_background": "light"
     },
     "output_type": "display_data"
    }
   ],
   "source": [
    "total_survived = train[train['Survived']==1]\n",
    "total_not_survived = train[train['Survived']==0]\n",
    "\n",
    "male_survived = train[(train['Survived']==1) & (train['Sex']==\"male\")]\n",
    "female_survived = train[(train['Survived']==1) & (train['Sex']==\"female\")]\n",
    "\n",
    "male_not_survived = train[(train['Survived']==0) & (train['Sex']==\"male\")]\n",
    "female_not_survived = train[(train['Survived']==0) & (train['Sex']==\"female\")]\n",
    "\n",
    "plt.figure(figsize=[15,5])\n",
    "plt.subplot(111)\n",
    "sns.distplot(total_survived['Age'].dropna().values, bins=range(0, 81, 1), \\\n",
    "             kde=False, color='blue', label='Survived')\n",
    "sns.distplot(total_not_survived['Age'].dropna().values, bins=range(0, 81, 1), \\\n",
    "             kde=False, color='red', axlabel='Age', label='Not Survived')\n",
    "plt.legend()\n",
    "\n",
    "plt.figure(figsize=[15,5])\n",
    "\n",
    "plt.subplot(121)\n",
    "sns.distplot(female_survived['Age'].dropna().values, bins=range(0, 81, 1), \\\n",
    "             kde=False, color='blue', label='Survived')\n",
    "sns.distplot(female_not_survived['Age'].dropna().values, bins=range(0, 81, 1), \\\n",
    "             kde=False, color='red', axlabel='Female Age', label='Not Survived')\n",
    "plt.legend()\n",
    "\n",
    "plt.subplot(122)\n",
    "sns.distplot(male_survived['Age'].dropna().values, bins=range(0, 81, 1), \\\n",
    "             kde=False, color='blue', label='Survived')\n",
    "sns.distplot(male_not_survived['Age'].dropna().values, bins=range(0, 81, 1), \\\n",
    "             kde=False, color='red', axlabel='Male Age', label='Not Survived')\n",
    "plt.legend()\n",
    "\n",
    "print('-'*40)\n",
    "print('Conclusoes')\n",
    "print('No geral: considerando ambos os sexos, a maior chance de sobrevivencia sao para aqueles com idade <= 7')\n",
    "print('No geral: Mulheres entre 15 e 40 e aquelas com mais de 50 anos tem maior chance de sobrevivencia')\n",
    "print('No geral: A maior chance de sobrevivencia nos homens sao para aqueles com idade <= 10')\n"
   ]
  },
  {
   "cell_type": "code",
   "execution_count": 11,
   "metadata": {},
   "outputs": [
    {
     "name": "stdout",
     "output_type": "stream",
     "text": [
      "Sex         0    1\n",
      "Title             \n",
      "Capt        0    1\n",
      "Col         0    2\n",
      "Countess    1    0\n",
      "Don         0    1\n",
      "Dr          1    6\n",
      "Jonkheer    0    1\n",
      "Lady        1    0\n",
      "Major       0    2\n",
      "Master      0   40\n",
      "Miss      182    0\n",
      "Mlle        2    0\n",
      "Mme         1    0\n",
      "Mr          0  517\n",
      "Mrs       125    0\n",
      "Ms          1    0\n",
      "Rev         0    6\n",
      "Sir         0    1\n",
      "    Title  Survived\n",
      "0  Master  0.575000\n",
      "1    Miss  0.697802\n",
      "2      Mr  0.156673\n",
      "3     Mrs  0.792000\n",
      "4   Other  0.444444\n",
      "----------------------------------------\n",
      "         AgeBand  Survived\n",
      "0  (-0.08, 16.0]  0.541284\n",
      "1   (16.0, 32.0]  0.346667\n",
      "2   (32.0, 48.0]  0.380952\n",
      "3   (48.0, 64.0]  0.434783\n",
      "4   (64.0, 80.0]  0.090909\n"
     ]
    },
    {
     "name": "stderr",
     "output_type": "stream",
     "text": [
      "c:\\users\\victo\\appdata\\local\\programs\\python\\python37\\lib\\site-packages\\ipykernel_launcher.py:38: SettingWithCopyWarning: \n",
      "A value is trying to be set on a copy of a slice from a DataFrame\n",
      "\n",
      "See the caveats in the documentation: http://pandas.pydata.org/pandas-docs/stable/user_guide/indexing.html#returning-a-view-versus-a-copy\n"
     ]
    },
    {
     "name": "stdout",
     "output_type": "stream",
     "text": [
      "----------------------------------------\n",
      "          FareBand  Survived\n",
      "0   (-0.001, 7.91]  0.197309\n",
      "1   (7.91, 14.454]  0.303571\n",
      "2   (14.454, 31.0]  0.454955\n",
      "3  (31.0, 512.329]  0.581081\n",
      "----------------------------------------\n",
      "   FamilySize  Survived\n",
      "0           1  0.303538\n",
      "1           2  0.552795\n",
      "2           3  0.578431\n",
      "3           4  0.724138\n",
      "4           5  0.200000\n",
      "5           6  0.136364\n",
      "6           7  0.333333\n",
      "7           8  0.000000\n",
      "8          11  0.000000\n"
     ]
    }
   ],
   "source": [
    "# --- feature engineering\n",
    "# Sex\n",
    "mapping = {'female': 0, 'male': 1}\n",
    "for dataset in all_data:\n",
    "    dataset['Sex'] = dataset['Sex'].map(mapping)\n",
    "\n",
    "# Title\n",
    "for dataset in all_data:\n",
    "    dataset['Title'] = dataset.Name.str.extract(' ([A-Za-z]+)\\.')\n",
    "\n",
    "print(pd.crosstab(train['Title'], train['Sex']))\n",
    "for dataset in all_data:\n",
    "    dataset['Title'] = dataset['Title'].replace(['Lady', 'Countess','Capt', 'Col', \\\n",
    "     'Don', 'Dr', 'Major', 'Rev', 'Sir', 'Jonkheer', 'Dona', 'Mlle', 'Ms', 'Mme'], 'Other')\n",
    "\n",
    "print(train[['Title', 'Survived']].groupby(['Title'], as_index=False).mean())\n",
    "\n",
    "mapping = {\"Mr\": 1, \"Miss\": 2, \"Mrs\": 3, \"Master\": 4, \"Other\": 5}\n",
    "for dataset in all_data:\n",
    "    dataset['Title'] = dataset['Title'].map(mapping)\n",
    "    dataset['Title'] = dataset['Title'].fillna(0)\n",
    "\n",
    "\n",
    "for dataset in all_data:\n",
    "    dataset['Embarked'] = dataset['Embarked'].fillna(train.Embarked.dropna().mode()[0])\n",
    "    \n",
    "mapping = {'S': 0, 'C': 1, 'Q': 2}\n",
    "for dataset in all_data:\n",
    "    dataset['Embarked'] = dataset['Embarked'].map(mapping).astype(int)\n",
    "\n",
    "    \n",
    "for dataset in all_data:\n",
    "    age_avg = dataset['Age'].mean()\n",
    "    age_std = dataset['Age'].std()\n",
    "    age_null_count = dataset['Age'].isnull().sum()\n",
    "    \n",
    "    age_null_random_list = np.random.randint(age_avg - age_std, age_avg + age_std, size=age_null_count)\n",
    "    dataset['Age'][np.isnan(dataset['Age'])] = age_null_random_list\n",
    "    dataset['Age'] = dataset['Age'].astype(int)\n",
    "    \n",
    "train['AgeBand'] = pd.cut(train['Age'], 5)\n",
    "print('-'*40)\n",
    "print (train[['AgeBand', 'Survived']].groupby(['AgeBand'], as_index=False).mean())\n",
    "\n",
    "for dataset in all_data:\n",
    "    dataset.loc[ dataset['Age'] <= 16, 'Age'] = 0\n",
    "    dataset.loc[(dataset['Age'] > 16) & (dataset['Age'] <= 32), 'Age'] = 1\n",
    "    dataset.loc[(dataset['Age'] > 32) & (dataset['Age'] <= 48), 'Age'] = 2\n",
    "    dataset.loc[(dataset['Age'] > 48) & (dataset['Age'] <= 64), 'Age'] = 3\n",
    "    dataset.loc[ dataset['Age'] > 64, 'Age'] = 4\n",
    "\n",
    "for dataset in all_data:\n",
    "    dataset['Fare'] = dataset['Fare'].fillna(train['Fare'].median())\n",
    "\n",
    "\n",
    "train['FareBand'] = pd.qcut(train['Fare'], 4)\n",
    "print('-'*40)\n",
    "print (train[['FareBand', 'Survived']].groupby(['FareBand'], as_index=False).mean())\n",
    "\n",
    "for dataset in all_data:\n",
    "    dataset.loc[ dataset['Fare'] <= 7.91, 'Fare'] = 0\n",
    "    dataset.loc[(dataset['Fare'] > 7.91) & (dataset['Fare'] <= 14.454), 'Fare'] = 1\n",
    "    dataset.loc[(dataset['Fare'] > 14.454) & (dataset['Fare'] <= 31), 'Fare']   = 2\n",
    "    dataset.loc[ dataset['Fare'] > 31, 'Fare'] = 3\n",
    "    dataset['Fare'] = dataset['Fare'].astype(int)\n",
    "    \n",
    "for dataset in all_data:\n",
    "    dataset['FamilySize'] = dataset['SibSp'] +  dataset['Parch'] + 1\n",
    "\n",
    "print('-'*40)\n",
    "print (train[['FamilySize', 'Survived']].groupby(['FamilySize'], as_index=False).mean())\n",
    "\n",
    "for dataset in all_data:\n",
    "    dataset['IsAlone'] = 0\n",
    "    dataset.loc[dataset['FamilySize'] == 1, 'IsAlone'] = 1\n",
    "\n",
    "features_drop = ['Name', 'SibSp', 'Parch', 'Ticket', 'Cabin', 'FamilySize']\n",
    "train = train.drop(features_drop, axis=1)\n",
    "test = test.drop(features_drop, axis=1)\n",
    "train = train.drop(['PassengerId', 'AgeBand', 'FareBand'], axis=1)\n"
   ]
  },
  {
   "cell_type": "code",
   "execution_count": 12,
   "metadata": {},
   "outputs": [
    {
     "name": "stdout",
     "output_type": "stream",
     "text": [
      "\n",
      "train.head\n",
      "   Pclass  Sex  Age  Fare  Embarked  Title  IsAlone\n",
      "0       3    1    1     0         0      1        0\n",
      "1       1    0    2     3         1      3        0\n",
      "2       3    0    1     1         0      2        1\n",
      "3       1    0    2     3         0      3        0\n",
      "4       3    1    2     1         0      1        1\n",
      "\n",
      "Acc SVM = 83.73\n",
      "\n",
      "Acc Random Forest = 86.64\n",
      "\n",
      "Feature importances\n",
      "Pclass = 0.16997415629794066\n",
      "Sex = 0.2494831658481304\n",
      "Age = 0.11200599810416725\n",
      "Fare = 0.12417470875327172\n",
      "Embarked = 0.06525206783942596\n",
      "Title = 0.23620148561680857\n",
      "IsAlone = 0.042908417540255546\n"
     ]
    },
    {
     "name": "stderr",
     "output_type": "stream",
     "text": [
      "c:\\users\\victo\\appdata\\local\\programs\\python\\python37\\lib\\site-packages\\sklearn\\svm\\base.py:196: FutureWarning: The default value of gamma will change from 'auto' to 'scale' in version 0.22 to account better for unscaled features. Set gamma explicitly to 'auto' or 'scale' to avoid this warning.\n",
      "  \"avoid this warning.\", FutureWarning)\n",
      "c:\\users\\victo\\appdata\\local\\programs\\python\\python37\\lib\\site-packages\\sklearn\\ensemble\\forest.py:248: FutureWarning: The default value of n_estimators will change from 10 in version 0.20 to 100 in 0.22.\n",
      "  \"10 in version 0.20 to 100 in 0.22.\", FutureWarning)\n"
     ]
    },
    {
     "name": "stdout",
     "output_type": "stream",
     "text": [
      "\n",
      "Acc XGBoost = 84.18\n",
      "\n",
      "Feature importances\n",
      "Pclass = 0.1655745\n",
      "Sex = 0.3626584\n",
      "Age = 0.023243804\n",
      "Fare = 0.04283343\n",
      "Embarked = 0.03827523\n",
      "Title = 0.34283066\n",
      "IsAlone = 0.024583977\n",
      "----------------------------------------\n",
      "Conclusoes\n",
      "Com tempo e com maquina para realizar a execucao dos experimentos, deve ser realizada a validacao cruzada    com o gridsearch para estimar os melhores parametros para cada modelo de classificacao.     Executar classification_grid_search(), se quiser pode definir mais possiveis valores dos parametros no gridsearch\n",
      "Considerando a execucao com parametros default dos modelos de classificacao (sem execucao do gridsearch):       o RandomForestClassifier deve ser utilizado, pois obteve melhores resultados na classificacao do conjunto de treinamento\n",
      "Em modelos baseados em arvores, como o RandomForestClassifier e o XGBClassifier, pode-se calcular a importancia    que cada feature teve. Enquanto a feature IsAlone tem menor importancia, Title teve menor importancia.     Talvez a feature IsAlone possa ser removida sem afetar o resultado da classificacao\n"
     ]
    }
   ],
   "source": [
    "X_train = train.drop('Survived', axis=1)\n",
    "y_train = train['Survived']\n",
    "X_test = test.drop(\"PassengerId\", axis=1).copy()\n",
    "\n",
    "#print(X_train.describe())\n",
    "\n",
    "\n",
    "print('\\ntrain.head')\n",
    "print(X_train.head())\n",
    "\n",
    "def grid_search(clf, params):\n",
    "    clf = GridSearchCV(clf, params, cv=5, n_jobs=4)\n",
    "    clf.fit(X_train, y_train)\n",
    "    print(\"Best estimator found by grid search:\")\n",
    "    print(clf.best_estimator_)\n",
    "    clf = clf.best_estimator_\n",
    "    print(round(clf.score(X_train, y_train) * 100, 2))\n",
    "    return clf\n",
    "\n",
    "def classification():\n",
    "    clf = svm.SVC()\n",
    "    clf.fit(X_train, y_train)\n",
    "    acc = round(clf.score(X_train, y_train) * 100, 2)\n",
    "    print ('\\nAcc SVM = ' + str(acc))\n",
    "    \n",
    "    clf = RandomForestClassifier()\n",
    "    clf.fit(X_train, y_train)\n",
    "    acc = round(clf.score(X_train, y_train) * 100, 2)\n",
    "    print ('\\nAcc Random Forest = ' + str(acc))\n",
    "    \n",
    "    print('\\nFeature importances')\n",
    "    for i in range(len(X_train.columns)): \n",
    "        print(X_train.columns[i] + ' = ' + str(clf.feature_importances_[i]))\n",
    "    \n",
    "    \n",
    "    clf = xgb.XGBClassifier()\n",
    "    clf.fit(X_train, y_train)\n",
    "    acc = round(clf.score(X_train, y_train) * 100, 2)\n",
    "    print ('\\nAcc XGBoost = ' + str(acc))\n",
    "    \n",
    "    print('\\nFeature importances')\n",
    "    for i in range(len(X_train.columns)): \n",
    "        print(X_train.columns[i] + ' = ' + str(clf.feature_importances_[i]))\n",
    "\n",
    "def classification_grid_search():\n",
    "    clf = svm.SVC()\n",
    "    param_grid = {'kernel': ['linear', 'rbf'],\n",
    "                  'C': [1, 1e3, 5e3, 1e4, 5e4, 1e5],\n",
    "                  'gamma': [0.0001, 0.0005, 0.001, 0.005, 0.01, 0.1] }\n",
    "    clf = grid_search(clf, param_grid)\n",
    "\n",
    "    clf = RandomForestClassifier()\n",
    "    param_grid = { \n",
    "        'n_estimators': [200, 500],\n",
    "        'max_features': ['auto', 'sqrt', 'log2'],\n",
    "        'max_depth' : [4,5,6,7,8],\n",
    "        'criterion' :['gini', 'entropy']\n",
    "    }\n",
    "    clf = grid_search(clf, param_grid)\n",
    "\n",
    "    print('\\nFeature importances')\n",
    "    for i in range(len(X_train.columns)): \n",
    "        print(X_train.columns[i] + ' = ' + str(clf.feature_importances_[i]))\n",
    "\n",
    "    clf = xgb.XGBClassifier(n_estimators=100)\n",
    "    param_grid = {'nthread':[4], \n",
    "                  'objective':['binary:logistic'],\n",
    "                  'learning_rate': [0.3], \n",
    "                  'max_depth': [5,6],\n",
    "                  'min_child_weight': [3],\n",
    "                  'silent': [1],\n",
    "                  'subsample': [0.7],\n",
    "                  'colsample_bytree': [0.7],\n",
    "                  'n_estimators': [50,100]}\n",
    "    clf = grid_search(clf, param_grid)\n",
    "    \n",
    "    print('\\nFeature importances')\n",
    "    for i in range(len(X_train.columns)): \n",
    "        print(X_train.columns[i] + ' = ' + str(clf.feature_importances_[i]))\n",
    "        \n",
    "classification()\n",
    "#classification_grid_search()\n",
    "\n",
    "print('-'*40)\n",
    "print('Conclusoes')\n",
    "print('Com tempo e com maquina para realizar a execucao dos experimentos, deve ser realizada a validacao cruzada\\\n",
    "    com o gridsearch para estimar os melhores parametros para cada modelo de classificacao. \\\n",
    "    Executar classification_grid_search(), se quiser pode definir mais possiveis valores dos parametros no gridsearch')\n",
    "print('Considerando a execucao com parametros default dos modelos de classificacao (sem execucao do gridsearch): \\\n",
    "      o RandomForestClassifier deve ser utilizado, pois obteve melhores resultados na classificacao do conjunto de treinamento')\n",
    "print('Em modelos baseados em arvores, como o RandomForestClassifier e o XGBClassifier, pode-se calcular a importancia\\\n",
    "    que cada feature teve. Enquanto a feature IsAlone tem menor importancia, Title teve menor importancia. \\\n",
    "    Talvez a feature IsAlone possa ser removida sem afetar o resultado da classificacao')"
   ]
  },
  {
   "cell_type": "code",
   "execution_count": null,
   "metadata": {},
   "outputs": [],
   "source": []
  }
 ],
 "metadata": {
  "kernelspec": {
   "display_name": "Python 3",
   "language": "python",
   "name": "python3"
  },
  "language_info": {
   "codemirror_mode": {
    "name": "ipython",
    "version": 3
   },
   "file_extension": ".py",
   "mimetype": "text/x-python",
   "name": "python",
   "nbconvert_exporter": "python",
   "pygments_lexer": "ipython3",
   "version": "3.7.0"
  }
 },
 "nbformat": 4,
 "nbformat_minor": 2
}
